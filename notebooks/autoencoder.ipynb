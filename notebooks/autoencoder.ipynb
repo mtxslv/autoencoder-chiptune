{
 "cells": [
  {
   "cell_type": "code",
   "execution_count": 1,
   "metadata": {},
   "outputs": [],
   "source": [
    "import typing as t\n",
    "from pathlib import Path\n",
    "\n",
    "import librosa\n",
    "import matplotlib.pyplot as plt\n",
    "import numpy as np\n",
    "import pandas as pd\n",
    "import tensorflow as tf\n",
    "from IPython.display import Audio\n",
    "from sklearn.metrics import accuracy_score, precision_score, recall_score\n",
    "from sklearn.model_selection import train_test_split\n",
    "from tensorflow.keras import layers, losses\n",
    "from tensorflow.keras.datasets import fashion_mnist\n",
    "from tensorflow.keras.models import Model"
   ]
  },
  {
   "cell_type": "markdown",
   "metadata": {},
   "source": [
    "# Read Files"
   ]
  },
  {
   "cell_type": "code",
   "execution_count": 4,
   "metadata": {},
   "outputs": [],
   "source": [
    "# Data folders\n",
    "__name__ = 'process_data.ipynb'\n",
    "raw_data_filepath = Path(__name__).resolve().parents[1] / 'data' / 'raw'\n",
    "assert raw_data_filepath.exists()\n",
    "mel_sgrams_folder = raw_data_filepath.parent / 'numpy-mel-spectrograms'\n",
    "assert mel_sgrams_folder.exists()\n",
    "\n",
    "# Check if npy files are ok\n",
    "npy_files = [file for file in mel_sgrams_folder.glob(\"*.npy\")]\n",
    "assert len(npy_files) == 50\n",
    "for npy_file in npy_files:\n",
    "    assert npy_file.is_file()\n",
    "    assert npy_file.exists()"
   ]
  }
 ],
 "metadata": {
  "kernelspec": {
   "display_name": ".venv",
   "language": "python",
   "name": "python3"
  },
  "language_info": {
   "codemirror_mode": {
    "name": "ipython",
    "version": 3
   },
   "file_extension": ".py",
   "mimetype": "text/x-python",
   "name": "python",
   "nbconvert_exporter": "python",
   "pygments_lexer": "ipython3",
   "version": "3.11.5"
  }
 },
 "nbformat": 4,
 "nbformat_minor": 2
}
