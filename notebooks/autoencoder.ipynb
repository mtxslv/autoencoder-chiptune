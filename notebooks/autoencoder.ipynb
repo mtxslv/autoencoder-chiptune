{
  "nbformat": 4,
  "nbformat_minor": 0,
  "metadata": {
    "colab": {
      "provenance": [],
      "gpuType": "T4",
      "collapsed_sections": [
        "Og8M5xX85E2l"
      ]
    },
    "kernelspec": {
      "name": "python3",
      "display_name": "Python 3"
    },
    "language_info": {
      "name": "python"
    },
    "accelerator": "GPU"
  },
  "cells": [
    {
      "cell_type": "code",
      "source": [
        "# !pip install --upgrade keras\n",
        "# !pip install --upgrade tensorflow"
      ],
      "metadata": {
        "id": "hWBo7WwsBzQT"
      },
      "execution_count": 2,
      "outputs": []
    },
    {
      "cell_type": "code",
      "execution_count": 42,
      "metadata": {
        "id": "Wfc2Qw2Ev5qd"
      },
      "outputs": [],
      "source": [
        "import json\n",
        "import typing as t\n",
        "from pathlib import Path\n",
        "\n",
        "import librosa\n",
        "import matplotlib.pyplot as plt\n",
        "import numpy as np\n",
        "import pandas as pd\n",
        "from IPython.display import Audio\n",
        "from sklearn.metrics import accuracy_score, precision_score, recall_score\n",
        "from sklearn.model_selection import train_test_split\n",
        "import tensorflow as tf\n",
        "from tensorflow.keras import layers, losses\n",
        "from tensorflow.keras.models import Model"
      ]
    },
    {
      "cell_type": "markdown",
      "source": [
        "# Get files from Google Drive"
      ],
      "metadata": {
        "id": "QyHsIctyxNrT"
      }
    },
    {
      "cell_type": "code",
      "source": [
        "from google.colab import drive\n",
        "drive.mount('/content/drive')"
      ],
      "metadata": {
        "colab": {
          "base_uri": "https://localhost:8080/"
        },
        "id": "lvYgMqZDxQpu",
        "outputId": "ed22926f-68d4-4a71-90fd-88c213d45ea6"
      },
      "execution_count": 4,
      "outputs": [
        {
          "output_type": "stream",
          "name": "stdout",
          "text": [
            "Drive already mounted at /content/drive; to attempt to forcibly remount, call drive.mount(\"/content/drive\", force_remount=True).\n"
          ]
        }
      ]
    },
    {
      "cell_type": "code",
      "source": [
        "! unzip ./drive/MyDrive/soundscapes-mel-sgrams.zip -d . # files at ./data/processed/soundsapes-mel-sgrams/*.npy\n",
        "# ! rm -rf data # to remove folders"
      ],
      "metadata": {
        "colab": {
          "base_uri": "https://localhost:8080/"
        },
        "id": "bWUY3Iu83MlT",
        "outputId": "f506e385-5ea5-4250-e618-005d7a58e2ad"
      },
      "execution_count": 5,
      "outputs": [
        {
          "output_type": "stream",
          "name": "stdout",
          "text": [
            "Archive:  ./drive/MyDrive/soundscapes-mel-sgrams.zip\n",
            "replace ./data/processed/soundscapes-mel-sgrams/13. Fortune Teller.npy? [y]es, [n]o, [A]ll, [N]one, [r]ename: "
          ]
        }
      ]
    },
    {
      "cell_type": "markdown",
      "source": [
        "# Utils"
      ],
      "metadata": {
        "id": "79oVRPhr3vZd"
      }
    },
    {
      "cell_type": "code",
      "source": [
        "def load_mel_sgram_files(path: Path) -> t.List[t.Dict[str, np.ndarray | str]]:\n",
        "    \"\"\"\n",
        "    Load mel spectrogram files from a given directory.\n",
        "\n",
        "    Parameters\n",
        "    -----------\n",
        "    path : Path\n",
        "        The path to the directory containing mel spectrogram files in numpy format (.npy).\n",
        "\n",
        "    Returns\n",
        "    -------\n",
        "    List[Dict[str, Union[np.ndarray, str]]]\n",
        "        A list of dictionaries, where each dictionary contains the file name (without extension) and the corresponding numpy array data.\n",
        "\n",
        "    Example:\n",
        "    ```python\n",
        "    path_to_files = Path('/path/to/your/files')\n",
        "    loaded_data = load_mel_sgram_files(path_to_files)\n",
        "\n",
        "    for entry in loaded_data:\n",
        "        print(f\"File: {entry['file_name']}, Shape: {entry['data'].shape}\")\n",
        "    ```\n",
        "    \"\"\"\n",
        "    mel_sgram_files = path.glob('*.npy')\n",
        "    data_list = []\n",
        "\n",
        "    for file_path in mel_sgram_files:\n",
        "        try:\n",
        "            data = np.load(file_path)\n",
        "            file_name = file_path.name  # Get the file name with extension\n",
        "            entry = {'file_name': file_name, 'data': data}\n",
        "            data_list.append(entry)\n",
        "        except Exception as e:\n",
        "            print(f\"Error loading {file_path}: {e}\")\n",
        "\n",
        "    return data_list\n",
        "\n",
        "def generate_sgram_tensor(data_info: t.List[t.Dict[str, np.ndarray | str]]) -> t.Dict[str, t.Dict[int,str] | np.ndarray]:\n",
        "    \"\"\"\n",
        "    Generate a 3D tensor containing mel spectrogram samples and a mapping from tensor positions to file names.\n",
        "\n",
        "    Parameters:\n",
        "    - data_info (List[Dict[str, Union[np.ndarray, str]]]): A list of dictionaries containing file names and corresponding\n",
        "      numpy array data, typically obtained from the `load_mel_sgram_files` function.\n",
        "\n",
        "    Returns:\n",
        "    - Dict[str, Union[Dict[str, int], np.ndarray]]: A dictionary with two keys:\n",
        "        - 'tensor': a 3D numpy array containing all mel spectrogram samples.\n",
        "        - 'mapping': a dictionary mapping the tensor's first position to the corresponding file name.\n",
        "\n",
        "    Example:\n",
        "    ```python\n",
        "    loaded_data = load_mel_sgram_files(Path('/path/to/your/files'))\n",
        "    sgram_tensor_info = generate_sgram_tensor(loaded_data)\n",
        "    tensor = sgram_tensor_info['tensor']\n",
        "    mapping = sgram_tensor_info['mapping']\n",
        "    ```\n",
        "    \"\"\"\n",
        "    num_samples = len(data_info)\n",
        "    max_length = max(data['data'].shape[0] for data in data_info)\n",
        "\n",
        "    # Initialize the tensor with zeros\n",
        "    sgram_tensor = np.zeros((num_samples, max_length, data_info[0]['data'].shape[1]))\n",
        "    mapping = {}\n",
        "\n",
        "    for i, data in enumerate(data_info):\n",
        "        length = data['data'].shape[0]\n",
        "        sgram_tensor[i, :length, :] = data['data']\n",
        "        mapping[i] = data['file_name']\n",
        "\n",
        "    return {'tensor': sgram_tensor, 'mapping': mapping}"
      ],
      "metadata": {
        "id": "bCaW236r3wfV"
      },
      "execution_count": 8,
      "outputs": []
    },
    {
      "cell_type": "code",
      "source": [
        "class ConvAutoEncoder(Model):\n",
        "  def __init__(self,\n",
        "               input_shape,\n",
        "               conv_filters = (16,32),\n",
        "               latent_dim = 2):\n",
        "    super(ConvAutoEncoder, self).__init__()\n",
        "\n",
        "    # Encoder\n",
        "    encoder_input = layers.Input(shape=input_shape)\n",
        "    encoder_layer_1 = layers.Conv2D(conv_filters[0], (3, 3), activation='relu', padding='same', strides=2)(encoder_input)\n",
        "    encoder_layer_2 = layers.Conv2D(conv_filters[1], (3, 3), activation='relu', padding='same', strides=2)(encoder_layer_1)\n",
        "    encoder_layer_3 = layers.Flatten()(encoder_layer_2)\n",
        "    encoder_layer_4 = layers.Dense(latent_dim,\n",
        "                                   kernel_regularizer='l2')(encoder_layer_3)\n",
        "    self.encoder = Model(encoder_input,\n",
        "                         encoder_layer_4,\n",
        "                         name = 'encoder')\n",
        "\n",
        "    # Decoder\n",
        "    decoder_input = layers.Input(shape = (latent_dim,))\n",
        "    decoder_layer_1 = layers.Dense(units=32*1689*conv_filters[1],\n",
        "                                   kernel_regularizer='l2')(decoder_input)\n",
        "    decoder_layer_2 = layers.Reshape(target_shape=(32,1689,conv_filters[1]))(decoder_layer_1)\n",
        "    decoder_layer_3 = layers.Conv2DTranspose(conv_filters[1], kernel_size=3, strides=2, activation='relu', padding='same')(decoder_layer_2)\n",
        "    decoder_layer_4 = layers.Conv2DTranspose(conv_filters[0], kernel_size=3, strides=2, activation='relu', padding='same')(decoder_layer_3)\n",
        "    decoder_layer_5 = layers.Conv2D(1, kernel_size=(3, 3), activation='sigmoid', padding='same')(decoder_layer_4)\n",
        "    self.decoder = Model(decoder_input,\n",
        "                         decoder_layer_5,\n",
        "                         name = 'decoder')\n",
        "\n",
        "  def encode(self,x):\n",
        "    return self.encoder(x)\n",
        "\n",
        "  def decode(self, x):\n",
        "    return self.decoder(x)\n",
        "\n",
        "  def call(self, x):\n",
        "    encoded = self.encoder(x)\n",
        "    decoded = self.decoder(encoded)\n",
        "    return decoded"
      ],
      "metadata": {
        "id": "oudyorb6RlYS"
      },
      "execution_count": 9,
      "outputs": []
    },
    {
      "cell_type": "markdown",
      "source": [
        "# Loading data in-memory"
      ],
      "metadata": {
        "id": "Og8M5xX85E2l"
      }
    },
    {
      "cell_type": "code",
      "source": [
        "sgram_folder = Path('./data/processed/soundscapes-mel-sgrams')\n",
        "assert sgram_folder.exists()\n",
        "data_list = load_mel_sgram_files(sgram_folder)"
      ],
      "metadata": {
        "id": "-_4Aao1V5HRO"
      },
      "execution_count": 10,
      "outputs": []
    },
    {
      "cell_type": "code",
      "source": [
        "t = np.array([d_l['data'] for d_l in data_list]) # This is the tensor I want\n",
        "tensor_obj = generate_sgram_tensor(data_list)\n",
        "assert tensor_obj['tensor'].shape == (24,128,6755)\n",
        "assert (tensor_obj['tensor'] == t).all() # Just to be sure"
      ],
      "metadata": {
        "id": "0yje-COb5kLG"
      },
      "execution_count": 11,
      "outputs": []
    },
    {
      "cell_type": "code",
      "source": [
        "# Assuming tensor_obj['tensor'] has shape (24, 128, 6755)\n",
        "desired_shape = (24, 128, 6756)\n",
        "\n",
        "# Calculate the padding along the third dimension\n",
        "padding = ((0, 0), (0, 0), (0, desired_shape[2] - tensor_obj['tensor'].shape[2]))\n",
        "\n",
        "# Pad the tensor with zeros\n",
        "padded_tensor = np.pad(tensor_obj['tensor'], padding, mode='constant', constant_values=0)\n",
        "\n",
        "# Verify the shape\n",
        "assert padded_tensor.shape == desired_shape\n",
        "\n",
        "# Now, you can use padded_tensor as your input tensor\n",
        "tensor_obj['tensor'] = padded_tensor"
      ],
      "metadata": {
        "id": "JdKdPm5QAlOg"
      },
      "execution_count": 12,
      "outputs": []
    },
    {
      "cell_type": "code",
      "source": [
        "# Getting right shape\n",
        "tensor_obj['tensor'] = tensor_obj['tensor'][..., tf.newaxis]\n",
        "assert tensor_obj['tensor'].shape == (24,128,6756,1)"
      ],
      "metadata": {
        "id": "aO6jwsOb9gt9"
      },
      "execution_count": 13,
      "outputs": []
    },
    {
      "cell_type": "code",
      "source": [
        "tensor_obj['tensor'] = tensor_obj['tensor'] / tensor_obj['tensor'].max()\n",
        "assert tensor_obj['tensor'].max() == 1.0"
      ],
      "metadata": {
        "id": "kV_qPudhIBjY"
      },
      "execution_count": 14,
      "outputs": []
    },
    {
      "cell_type": "markdown",
      "source": [
        "# Running autoencoder"
      ],
      "metadata": {
        "id": "Xe78Y7js8nwC"
      }
    },
    {
      "cell_type": "code",
      "source": [
        "autoencoder = ConvAutoEncoder((128, 6756,1),\n",
        "                              (32,64))\n",
        "autoencoder.compile(optimizer='adam', loss=losses.MeanSquaredError())"
      ],
      "metadata": {
        "id": "BuI0b5BfOb-9"
      },
      "execution_count": 15,
      "outputs": []
    },
    {
      "cell_type": "code",
      "source": [
        "history = autoencoder.fit(\n",
        "    tensor_obj['tensor'],\n",
        "    tensor_obj['tensor'],\n",
        "    epochs=50,\n",
        "    shuffle = True,\n",
        "    validation_split = 0.15\n",
        ")"
      ],
      "metadata": {
        "colab": {
          "base_uri": "https://localhost:8080/"
        },
        "id": "VdWpTfAF8pdE",
        "outputId": "2861ab62-d004-4e79-eabb-742375f8a7a8"
      },
      "execution_count": 23,
      "outputs": [
        {
          "output_type": "stream",
          "name": "stdout",
          "text": [
            "Epoch 1/50\n",
            "1/1 [==============================] - 48s 48s/step - loss: 0.0420 - val_loss: 0.0597\n",
            "Epoch 2/50\n",
            "1/1 [==============================] - 46s 46s/step - loss: 0.0586 - val_loss: 0.0710\n",
            "Epoch 3/50\n",
            "1/1 [==============================] - 42s 42s/step - loss: 0.0700 - val_loss: 0.0598\n",
            "Epoch 4/50\n",
            "1/1 [==============================] - 45s 45s/step - loss: 0.0589 - val_loss: 0.0457\n",
            "Epoch 5/50\n",
            "1/1 [==============================] - 43s 43s/step - loss: 0.0449 - val_loss: 0.0405\n",
            "Epoch 6/50\n",
            "1/1 [==============================] - 45s 45s/step - loss: 0.0399 - val_loss: 0.0430\n",
            "Epoch 7/50\n",
            "1/1 [==============================] - 42s 42s/step - loss: 0.0426 - val_loss: 0.0465\n",
            "Epoch 8/50\n",
            "1/1 [==============================] - 44s 44s/step - loss: 0.0463 - val_loss: 0.0465\n",
            "Epoch 9/50\n",
            "1/1 [==============================] - 42s 42s/step - loss: 0.0465 - val_loss: 0.0430\n",
            "Epoch 10/50\n",
            "1/1 [==============================] - 44s 44s/step - loss: 0.0433 - val_loss: 0.0387\n",
            "Epoch 11/50\n",
            "1/1 [==============================] - 42s 42s/step - loss: 0.0392 - val_loss: 0.0360\n",
            "Epoch 12/50\n",
            "1/1 [==============================] - 44s 44s/step - loss: 0.0369 - val_loss: 0.0355\n",
            "Epoch 13/50\n",
            "1/1 [==============================] - 42s 42s/step - loss: 0.0367 - val_loss: 0.0363\n",
            "Epoch 14/50\n",
            "1/1 [==============================] - 44s 44s/step - loss: 0.0378 - val_loss: 0.0367\n",
            "Epoch 15/50\n",
            "1/1 [==============================] - 42s 42s/step - loss: 0.0385 - val_loss: 0.0360\n",
            "Epoch 16/50\n",
            "1/1 [==============================] - 44s 44s/step - loss: 0.0380 - val_loss: 0.0344\n",
            "Epoch 17/50\n",
            "1/1 [==============================] - 42s 42s/step - loss: 0.0367 - val_loss: 0.0329\n",
            "Epoch 18/50\n",
            "1/1 [==============================] - 44s 44s/step - loss: 0.0353 - val_loss: 0.0322\n",
            "Epoch 19/50\n",
            "1/1 [==============================] - 42s 42s/step - loss: 0.0346 - val_loss: 0.0323\n",
            "Epoch 20/50\n",
            "1/1 [==============================] - 44s 44s/step - loss: 0.0347 - val_loss: 0.0327\n",
            "Epoch 21/50\n",
            "1/1 [==============================] - 42s 42s/step - loss: 0.0350 - val_loss: 0.0329\n",
            "Epoch 22/50\n",
            "1/1 [==============================] - 45s 45s/step - loss: 0.0350 - val_loss: 0.0326\n",
            "Epoch 23/50\n",
            "1/1 [==============================] - 43s 43s/step - loss: 0.0346 - val_loss: 0.0321\n",
            "Epoch 24/50\n",
            "1/1 [==============================] - 44s 44s/step - loss: 0.0339 - val_loss: 0.0317\n",
            "Epoch 25/50\n",
            "1/1 [==============================] - 43s 43s/step - loss: 0.0333 - val_loss: 0.0315\n",
            "Epoch 26/50\n",
            "1/1 [==============================] - 44s 44s/step - loss: 0.0331 - val_loss: 0.0317\n",
            "Epoch 27/50\n",
            "1/1 [==============================] - 43s 43s/step - loss: 0.0331 - val_loss: 0.0318\n",
            "Epoch 28/50\n",
            "1/1 [==============================] - 44s 44s/step - loss: 0.0331 - val_loss: 0.0317\n",
            "Epoch 29/50\n",
            "1/1 [==============================] - 42s 42s/step - loss: 0.0330 - val_loss: 0.0314\n",
            "Epoch 30/50\n",
            "1/1 [==============================] - 44s 44s/step - loss: 0.0327 - val_loss: 0.0309\n",
            "Epoch 31/50\n",
            "1/1 [==============================] - 42s 42s/step - loss: 0.0322 - val_loss: 0.0306\n",
            "Epoch 32/50\n",
            "1/1 [==============================] - 44s 44s/step - loss: 0.0319 - val_loss: 0.0303\n",
            "Epoch 33/50\n",
            "1/1 [==============================] - 43s 43s/step - loss: 0.0316 - val_loss: 0.0299\n",
            "Epoch 34/50\n",
            "1/1 [==============================] - 45s 45s/step - loss: 0.0314 - val_loss: 0.0294\n",
            "Epoch 35/50\n",
            "1/1 [==============================] - 43s 43s/step - loss: 0.0310 - val_loss: 0.0283\n",
            "Epoch 36/50\n",
            "1/1 [==============================] - 44s 44s/step - loss: 0.0300 - val_loss: 0.0244\n",
            "Epoch 37/50\n",
            "1/1 [==============================] - 43s 43s/step - loss: 0.0268 - val_loss: 0.0231\n",
            "Epoch 38/50\n",
            "1/1 [==============================] - 44s 44s/step - loss: 0.0285 - val_loss: 0.0223\n",
            "Epoch 39/50\n",
            "1/1 [==============================] - 43s 43s/step - loss: 0.0247 - val_loss: 0.0246\n",
            "Epoch 40/50\n",
            "1/1 [==============================] - 44s 44s/step - loss: 0.0265 - val_loss: 0.0212\n",
            "Epoch 41/50\n",
            "1/1 [==============================] - 43s 43s/step - loss: 0.0239 - val_loss: 0.0204\n",
            "Epoch 42/50\n",
            "1/1 [==============================] - 44s 44s/step - loss: 0.0258 - val_loss: 0.0192\n",
            "Epoch 43/50\n",
            "1/1 [==============================] - 43s 43s/step - loss: 0.0221 - val_loss: 0.0210\n",
            "Epoch 44/50\n",
            "1/1 [==============================] - 45s 45s/step - loss: 0.0231 - val_loss: 0.0183\n",
            "Epoch 45/50\n",
            "1/1 [==============================] - 44s 44s/step - loss: 0.0210 - val_loss: 0.0179\n",
            "Epoch 46/50\n",
            "1/1 [==============================] - 44s 44s/step - loss: 0.0226 - val_loss: 0.0180\n",
            "Epoch 47/50\n",
            "1/1 [==============================] - 44s 44s/step - loss: 0.0206 - val_loss: 0.0187\n",
            "Epoch 48/50\n",
            "1/1 [==============================] - 44s 44s/step - loss: 0.0208 - val_loss: 0.0159\n",
            "Epoch 49/50\n",
            "1/1 [==============================] - 44s 44s/step - loss: 0.0190 - val_loss: 0.0161\n",
            "Epoch 50/50\n",
            "1/1 [==============================] - 43s 43s/step - loss: 0.0201 - val_loss: 0.0194\n"
          ]
        }
      ]
    },
    {
      "cell_type": "code",
      "source": [
        "autoencoder.summary()"
      ],
      "metadata": {
        "colab": {
          "base_uri": "https://localhost:8080/"
        },
        "id": "qobBCTTFJPx5",
        "outputId": "c242575a-c06b-4306-822c-c4b1e5b470ae"
      },
      "execution_count": 26,
      "outputs": [
        {
          "output_type": "stream",
          "name": "stdout",
          "text": [
            "Model: \"conv_auto_encoder_1\"\n",
            "_________________________________________________________________\n",
            " Layer (type)                Output Shape              Param #   \n",
            "=================================================================\n",
            " encoder (Functional)        (None, 2)                 6936962   \n",
            "                                                                 \n",
            " decoder (Functional)        (None, 128, 6756, 1)      10432897  \n",
            "                                                                 \n",
            "=================================================================\n",
            "Total params: 17369859 (66.26 MB)\n",
            "Trainable params: 17369859 (66.26 MB)\n",
            "Non-trainable params: 0 (0.00 Byte)\n",
            "_________________________________________________________________\n"
          ]
        }
      ]
    },
    {
      "cell_type": "code",
      "source": [
        "# summarize history for loss\n",
        "\n",
        "plt.plot(history.history['loss'])\n",
        "plt.plot(history.history['val_loss'])\n",
        "plt.title('model loss')\n",
        "plt.ylabel('loss')\n",
        "plt.xlabel('epoch')\n",
        "plt.legend(['train', 'test'], loc='upper left')\n",
        "plt.grid(True)\n",
        "plt.show()"
      ],
      "metadata": {
        "colab": {
          "base_uri": "https://localhost:8080/",
          "height": 472
        },
        "id": "oRB855Wp8zGu",
        "outputId": "91c0b8d4-136a-461d-d163-8ce6d84ba7e9"
      },
      "execution_count": 27,
      "outputs": [
        {
          "output_type": "display_data",
          "data": {
            "text/plain": [
              "<Figure size 640x480 with 1 Axes>"
            ],
            "image/png": "[encoded data removed]"
          },
          "metadata": {}
        }
      ]
    },
    {
      "cell_type": "code",
      "source": [
        "sample = tensor_obj['tensor'][0,:,:]\n",
        "sample = sample[tf.newaxis,...]\n",
        "sample.shape"
      ],
      "metadata": {
        "colab": {
          "base_uri": "https://localhost:8080/"
        },
        "id": "oK24EN4PInFV",
        "outputId": "e2b0b7e8-8a42-4826-b8a0-5302777b7c16"
      },
      "execution_count": 28,
      "outputs": [
        {
          "output_type": "execute_result",
          "data": {
            "text/plain": [
              "(1, 128, 6756, 1)"
            ]
          },
          "metadata": {},
          "execution_count": 28
        }
      ]
    },
    {
      "cell_type": "code",
      "source": [
        "embeddings = autoencoder.encode(\n",
        "    tensor_obj['tensor']\n",
        ").numpy()"
      ],
      "metadata": {
        "id": "DBcXdzKuIlve"
      },
      "execution_count": 29,
      "outputs": []
    },
    {
      "cell_type": "code",
      "source": [
        "embeddings"
      ],
      "metadata": {
        "colab": {
          "base_uri": "https://localhost:8080/"
        },
        "id": "f9PznztUxdsq",
        "outputId": "ce98259b-7c86-47f5-a67d-7979f3075753"
      },
      "execution_count": 30,
      "outputs": [
        {
          "output_type": "execute_result",
          "data": {
            "text/plain": [
              "array([[  4.736777 , -61.894936 ],\n",
              "       [  4.4671583, -57.909126 ],\n",
              "       [  4.9723325, -64.22405  ],\n",
              "       [  4.7074413, -60.27318  ],\n",
              "       [  5.128002 , -64.9858   ],\n",
              "       [  5.312803 , -67.842026 ],\n",
              "       [  5.5002856, -68.65294  ],\n",
              "       [  5.246337 , -66.38779  ],\n",
              "       [  5.4821877, -69.21408  ],\n",
              "       [  5.382165 , -69.05252  ],\n",
              "       [  5.157629 , -66.756516 ],\n",
              "       [  4.786135 , -60.95588  ],\n",
              "       [  4.9272623, -63.450756 ],\n",
              "       [  5.24569  , -66.82993  ],\n",
              "       [  5.4734025, -68.09786  ],\n",
              "       [  4.772075 , -63.616512 ],\n",
              "       [  4.529189 , -58.25381  ],\n",
              "       [  4.82617  , -61.49837  ],\n",
              "       [  5.226358 , -65.70996  ],\n",
              "       [  5.239163 , -66.04463  ],\n",
              "       [  5.0974755, -65.380356 ],\n",
              "       [  5.3014264, -66.970825 ],\n",
              "       [  5.84108  , -72.63812  ],\n",
              "       [  5.45932  , -68.29741  ]], dtype=float32)"
            ]
          },
          "metadata": {},
          "execution_count": 30
        }
      ]
    },
    {
      "cell_type": "code",
      "source": [
        "tensor_obj['mapping']"
      ],
      "metadata": {
        "colab": {
          "base_uri": "https://localhost:8080/"
        },
        "id": "lHENrVrXTgVJ",
        "outputId": "16964419-243d-4a03-ca0d-dbd52f855875"
      },
      "execution_count": 31,
      "outputs": [
        {
          "output_type": "execute_result",
          "data": {
            "text/plain": [
              "{0: '19. The Silly Pink Rabbit!.npy',\n",
              " 1: '13. Fortune Teller.npy',\n",
              " 2: '14. Soldiers of Kakariko Village.npy',\n",
              " 3: '02. Beginning of the Journey.npy',\n",
              " 4: '21. Forest of Mystery.npy',\n",
              " 5: '26. Black Mist (Storm).npy',\n",
              " 6: '24. Dark Golden Land.npy',\n",
              " 7: '12. Guessing-Game House.npy',\n",
              " 8: '03. Seal of Seven Maidens.npy',\n",
              " 9: '05. Time of the Falling Rain (Storm).npy',\n",
              " 10: '07. Majestic Castle (Storm).npy',\n",
              " 11: '09. Safety in the Sanctuary.npy',\n",
              " 12: '06. Majestic Castle.npy',\n",
              " 13: '04. Time of the Falling Rain.npy',\n",
              " 14: \"08. Princess Zelda's Rescue.npy\",\n",
              " 15: '20. The Silly Pink Rabbit! (Storm).npy',\n",
              " 16: '29. The Goddess Appears.npy',\n",
              " 17: '15. Dank Dungeons.npy',\n",
              " 18: '25. Black Mist.npy',\n",
              " 19: '27. Dungeon of Shadows.npy',\n",
              " 20: '16. Lost Ancient Ruins.npy',\n",
              " 21: '11. Kakariko Village.npy',\n",
              " 22: '17. Anger of the Guardians.npy',\n",
              " 23: '10. Hyrule Field Main Theme.npy'}"
            ]
          },
          "metadata": {},
          "execution_count": 31
        }
      ]
    },
    {
      "cell_type": "code",
      "source": [
        "output = dict()\n",
        "for it, title in tensor_obj['mapping'].items():\n",
        "  position = embeddings[it,:].tolist()\n",
        "  print(f'We have the tune | {title} | in the {it}-th track. Embedded Point = {position} ')\n",
        "  output[title] = position"
      ],
      "metadata": {
        "colab": {
          "base_uri": "https://localhost:8080/"
        },
        "id": "eIvD_6gxc8Y_",
        "outputId": "01896b99-e02b-480f-8f3f-34c7ef70c912"
      },
      "execution_count": 40,
      "outputs": [
        {
          "output_type": "stream",
          "name": "stdout",
          "text": [
            "We have the tune | 19. The Silly Pink Rabbit!.npy | in the 0-th track. Embedded Point = [4.736776828765869, -61.894935607910156] \n",
            "We have the tune | 13. Fortune Teller.npy | in the 1-th track. Embedded Point = [4.467158317565918, -57.90912628173828] \n",
            "We have the tune | 14. Soldiers of Kakariko Village.npy | in the 2-th track. Embedded Point = [4.97233247756958, -64.22405242919922] \n",
            "We have the tune | 02. Beginning of the Journey.npy | in the 3-th track. Embedded Point = [4.707441329956055, -60.27317810058594] \n",
            "We have the tune | 21. Forest of Mystery.npy | in the 4-th track. Embedded Point = [5.128002166748047, -64.98580169677734] \n",
            "We have the tune | 26. Black Mist (Storm).npy | in the 5-th track. Embedded Point = [5.312802791595459, -67.84202575683594] \n",
            "We have the tune | 24. Dark Golden Land.npy | in the 6-th track. Embedded Point = [5.500285625457764, -68.65293884277344] \n",
            "We have the tune | 12. Guessing-Game House.npy | in the 7-th track. Embedded Point = [5.246336936950684, -66.38778686523438] \n",
            "We have the tune | 03. Seal of Seven Maidens.npy | in the 8-th track. Embedded Point = [5.482187747955322, -69.21408081054688] \n",
            "We have the tune | 05. Time of the Falling Rain (Storm).npy | in the 9-th track. Embedded Point = [5.38216495513916, -69.05252075195312] \n",
            "We have the tune | 07. Majestic Castle (Storm).npy | in the 10-th track. Embedded Point = [5.157629013061523, -66.75651550292969] \n",
            "We have the tune | 09. Safety in the Sanctuary.npy | in the 11-th track. Embedded Point = [4.786135196685791, -60.95587921142578] \n",
            "We have the tune | 06. Majestic Castle.npy | in the 12-th track. Embedded Point = [4.927262306213379, -63.45075607299805] \n",
            "We have the tune | 04. Time of the Falling Rain.npy | in the 13-th track. Embedded Point = [5.245689868927002, -66.8299331665039] \n",
            "We have the tune | 08. Princess Zelda's Rescue.npy | in the 14-th track. Embedded Point = [5.473402500152588, -68.09786224365234] \n",
            "We have the tune | 20. The Silly Pink Rabbit! (Storm).npy | in the 15-th track. Embedded Point = [4.772075176239014, -63.616512298583984] \n",
            "We have the tune | 29. The Goddess Appears.npy | in the 16-th track. Embedded Point = [4.529189109802246, -58.25381088256836] \n",
            "We have the tune | 15. Dank Dungeons.npy | in the 17-th track. Embedded Point = [4.826169967651367, -61.49837112426758] \n",
            "We have the tune | 25. Black Mist.npy | in the 18-th track. Embedded Point = [5.226357936859131, -65.7099609375] \n",
            "We have the tune | 27. Dungeon of Shadows.npy | in the 19-th track. Embedded Point = [5.239162921905518, -66.04463195800781] \n",
            "We have the tune | 16. Lost Ancient Ruins.npy | in the 20-th track. Embedded Point = [5.097475528717041, -65.38035583496094] \n",
            "We have the tune | 11. Kakariko Village.npy | in the 21-th track. Embedded Point = [5.301426410675049, -66.9708251953125] \n",
            "We have the tune | 17. Anger of the Guardians.npy | in the 22-th track. Embedded Point = [5.841080188751221, -72.63812255859375] \n",
            "We have the tune | 10. Hyrule Field Main Theme.npy | in the 23-th track. Embedded Point = [5.459320068359375, -68.29740905761719] \n"
          ]
        }
      ]
    },
    {
      "cell_type": "code",
      "source": [
        "output"
      ],
      "metadata": {
        "colab": {
          "base_uri": "https://localhost:8080/"
        },
        "id": "GR1DvUYhdmw5",
        "outputId": "62ae3b6f-7a9a-45ef-8935-f11f92a21187"
      },
      "execution_count": 41,
      "outputs": [
        {
          "output_type": "execute_result",
          "data": {
            "text/plain": [
              "{'19. The Silly Pink Rabbit!.npy': [4.736776828765869, -61.894935607910156],\n",
              " '13. Fortune Teller.npy': [4.467158317565918, -57.90912628173828],\n",
              " '14. Soldiers of Kakariko Village.npy': [4.97233247756958,\n",
              "  -64.22405242919922],\n",
              " '02. Beginning of the Journey.npy': [4.707441329956055, -60.27317810058594],\n",
              " '21. Forest of Mystery.npy': [5.128002166748047, -64.98580169677734],\n",
              " '26. Black Mist (Storm).npy': [5.312802791595459, -67.84202575683594],\n",
              " '24. Dark Golden Land.npy': [5.500285625457764, -68.65293884277344],\n",
              " '12. Guessing-Game House.npy': [5.246336936950684, -66.38778686523438],\n",
              " '03. Seal of Seven Maidens.npy': [5.482187747955322, -69.21408081054688],\n",
              " '05. Time of the Falling Rain (Storm).npy': [5.38216495513916,\n",
              "  -69.05252075195312],\n",
              " '07. Majestic Castle (Storm).npy': [5.157629013061523, -66.75651550292969],\n",
              " '09. Safety in the Sanctuary.npy': [4.786135196685791, -60.95587921142578],\n",
              " '06. Majestic Castle.npy': [4.927262306213379, -63.45075607299805],\n",
              " '04. Time of the Falling Rain.npy': [5.245689868927002, -66.8299331665039],\n",
              " \"08. Princess Zelda's Rescue.npy\": [5.473402500152588, -68.09786224365234],\n",
              " '20. The Silly Pink Rabbit! (Storm).npy': [4.772075176239014,\n",
              "  -63.616512298583984],\n",
              " '29. The Goddess Appears.npy': [4.529189109802246, -58.25381088256836],\n",
              " '15. Dank Dungeons.npy': [4.826169967651367, -61.49837112426758],\n",
              " '25. Black Mist.npy': [5.226357936859131, -65.7099609375],\n",
              " '27. Dungeon of Shadows.npy': [5.239162921905518, -66.04463195800781],\n",
              " '16. Lost Ancient Ruins.npy': [5.097475528717041, -65.38035583496094],\n",
              " '11. Kakariko Village.npy': [5.301426410675049, -66.9708251953125],\n",
              " '17. Anger of the Guardians.npy': [5.841080188751221, -72.63812255859375],\n",
              " '10. Hyrule Field Main Theme.npy': [5.459320068359375, -68.29740905761719]}"
            ]
          },
          "metadata": {},
          "execution_count": 41
        }
      ]
    },
    {
      "cell_type": "code",
      "source": [
        "with open('embeddings.json', 'w') as fp:\n",
        "    json.dump(output, fp)"
      ],
      "metadata": {
        "id": "Hk2osVBHd3gw"
      },
      "execution_count": 43,
      "outputs": []
    },
    {
      "cell_type": "markdown",
      "source": [
        "# Refs\n",
        "[VAE](https://www.tensorflow.org/tutorials/generative/cvae)\n",
        "\n",
        "[AE](https://www.tensorflow.org/tutorials/generative/autoencoder)"
      ],
      "metadata": {
        "id": "hMbYEGblVKVQ"
      }
    }
  ]
}