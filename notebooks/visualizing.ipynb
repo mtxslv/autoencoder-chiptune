{
 "cells": [
  {
   "cell_type": "code",
   "execution_count": 49,
   "metadata": {},
   "outputs": [],
   "source": [
    "import json\n",
    "from pathlib import Path\n",
    "\n",
    "import pandas as pd\n",
    "import plotly.express as px\n",
    "\n",
    "from src.dataset import TuneDataset"
   ]
  },
  {
   "cell_type": "markdown",
   "metadata": {},
   "source": [
    "# Load Embeddings"
   ]
  },
  {
   "cell_type": "code",
   "execution_count": 50,
   "metadata": {},
   "outputs": [
    {
     "data": {
      "text/plain": [
       "{'19. The Silly Pink Rabbit!.npy': [4.736776828765869, -61.894935607910156],\n",
       " '13. Fortune Teller.npy': [4.467158317565918, -57.90912628173828],\n",
       " '14. Soldiers of Kakariko Village.npy': [4.97233247756958,\n",
       "  -64.22405242919922],\n",
       " '02. Beginning of the Journey.npy': [4.707441329956055, -60.27317810058594],\n",
       " '21. Forest of Mystery.npy': [5.128002166748047, -64.98580169677734],\n",
       " '26. Black Mist (Storm).npy': [5.312802791595459, -67.84202575683594],\n",
       " '24. Dark Golden Land.npy': [5.500285625457764, -68.65293884277344],\n",
       " '12. Guessing-Game House.npy': [5.246336936950684, -66.38778686523438],\n",
       " '03. Seal of Seven Maidens.npy': [5.482187747955322, -69.21408081054688],\n",
       " '05. Time of the Falling Rain (Storm).npy': [5.38216495513916,\n",
       "  -69.05252075195312],\n",
       " '07. Majestic Castle (Storm).npy': [5.157629013061523, -66.75651550292969],\n",
       " '09. Safety in the Sanctuary.npy': [4.786135196685791, -60.95587921142578],\n",
       " '06. Majestic Castle.npy': [4.927262306213379, -63.45075607299805],\n",
       " '04. Time of the Falling Rain.npy': [5.245689868927002, -66.8299331665039],\n",
       " \"08. Princess Zelda's Rescue.npy\": [5.473402500152588, -68.09786224365234],\n",
       " '20. The Silly Pink Rabbit! (Storm).npy': [4.772075176239014,\n",
       "  -63.616512298583984],\n",
       " '29. The Goddess Appears.npy': [4.529189109802246, -58.25381088256836],\n",
       " '15. Dank Dungeons.npy': [4.826169967651367, -61.49837112426758],\n",
       " '25. Black Mist.npy': [5.226357936859131, -65.7099609375],\n",
       " '27. Dungeon of Shadows.npy': [5.239162921905518, -66.04463195800781],\n",
       " '16. Lost Ancient Ruins.npy': [5.097475528717041, -65.38035583496094],\n",
       " '11. Kakariko Village.npy': [5.301426410675049, -66.9708251953125],\n",
       " '17. Anger of the Guardians.npy': [5.841080188751221, -72.63812255859375],\n",
       " '10. Hyrule Field Main Theme.npy': [5.459320068359375, -68.29740905761719]}"
      ]
     },
     "execution_count": 50,
     "metadata": {},
     "output_type": "execute_result"
    }
   ],
   "source": [
    "__name__ = 'visualizing.ipynb'\n",
    "embeddings_path = Path(__name__).resolve().parents[1] / 'data' / 'processed' / 'embeddings.json'\n",
    "assert embeddings_path.exists() and embeddings_path.is_file()\n",
    "\n",
    "with open(str(embeddings_path), 'r') as file:\n",
    "    embeddings = json.load(file)\n",
    "\n",
    "embeddings"
   ]
  },
  {
   "cell_type": "code",
   "execution_count": 51,
   "metadata": {},
   "outputs": [
    {
     "data": {
      "text/html": [
       "<div>\n",
       "<style scoped>\n",
       "    .dataframe tbody tr th:only-of-type {\n",
       "        vertical-align: middle;\n",
       "    }\n",
       "\n",
       "    .dataframe tbody tr th {\n",
       "        vertical-align: top;\n",
       "    }\n",
       "\n",
       "    .dataframe thead th {\n",
       "        text-align: right;\n",
       "    }\n",
       "</style>\n",
       "<table border=\"1\" class=\"dataframe\">\n",
       "  <thead>\n",
       "    <tr style=\"text-align: right;\">\n",
       "      <th></th>\n",
       "      <th>emb1</th>\n",
       "      <th>emb2</th>\n",
       "      <th>name</th>\n",
       "    </tr>\n",
       "  </thead>\n",
       "  <tbody>\n",
       "    <tr>\n",
       "      <th>0</th>\n",
       "      <td>4.736777</td>\n",
       "      <td>-61.894936</td>\n",
       "      <td>19. The Silly Pink Rabbit!.npy</td>\n",
       "    </tr>\n",
       "    <tr>\n",
       "      <th>1</th>\n",
       "      <td>4.467158</td>\n",
       "      <td>-57.909126</td>\n",
       "      <td>13. Fortune Teller.npy</td>\n",
       "    </tr>\n",
       "    <tr>\n",
       "      <th>2</th>\n",
       "      <td>4.972332</td>\n",
       "      <td>-64.224052</td>\n",
       "      <td>14. Soldiers of Kakariko Village.npy</td>\n",
       "    </tr>\n",
       "    <tr>\n",
       "      <th>3</th>\n",
       "      <td>4.707441</td>\n",
       "      <td>-60.273178</td>\n",
       "      <td>02. Beginning of the Journey.npy</td>\n",
       "    </tr>\n",
       "    <tr>\n",
       "      <th>4</th>\n",
       "      <td>5.128002</td>\n",
       "      <td>-64.985802</td>\n",
       "      <td>21. Forest of Mystery.npy</td>\n",
       "    </tr>\n",
       "    <tr>\n",
       "      <th>5</th>\n",
       "      <td>5.312803</td>\n",
       "      <td>-67.842026</td>\n",
       "      <td>26. Black Mist (Storm).npy</td>\n",
       "    </tr>\n",
       "    <tr>\n",
       "      <th>6</th>\n",
       "      <td>5.500286</td>\n",
       "      <td>-68.652939</td>\n",
       "      <td>24. Dark Golden Land.npy</td>\n",
       "    </tr>\n",
       "    <tr>\n",
       "      <th>7</th>\n",
       "      <td>5.246337</td>\n",
       "      <td>-66.387787</td>\n",
       "      <td>12. Guessing-Game House.npy</td>\n",
       "    </tr>\n",
       "    <tr>\n",
       "      <th>8</th>\n",
       "      <td>5.482188</td>\n",
       "      <td>-69.214081</td>\n",
       "      <td>03. Seal of Seven Maidens.npy</td>\n",
       "    </tr>\n",
       "    <tr>\n",
       "      <th>9</th>\n",
       "      <td>5.382165</td>\n",
       "      <td>-69.052521</td>\n",
       "      <td>05. Time of the Falling Rain (Storm).npy</td>\n",
       "    </tr>\n",
       "    <tr>\n",
       "      <th>10</th>\n",
       "      <td>5.157629</td>\n",
       "      <td>-66.756516</td>\n",
       "      <td>07. Majestic Castle (Storm).npy</td>\n",
       "    </tr>\n",
       "    <tr>\n",
       "      <th>11</th>\n",
       "      <td>4.786135</td>\n",
       "      <td>-60.955879</td>\n",
       "      <td>09. Safety in the Sanctuary.npy</td>\n",
       "    </tr>\n",
       "    <tr>\n",
       "      <th>12</th>\n",
       "      <td>4.927262</td>\n",
       "      <td>-63.450756</td>\n",
       "      <td>06. Majestic Castle.npy</td>\n",
       "    </tr>\n",
       "    <tr>\n",
       "      <th>13</th>\n",
       "      <td>5.245690</td>\n",
       "      <td>-66.829933</td>\n",
       "      <td>04. Time of the Falling Rain.npy</td>\n",
       "    </tr>\n",
       "    <tr>\n",
       "      <th>14</th>\n",
       "      <td>5.473403</td>\n",
       "      <td>-68.097862</td>\n",
       "      <td>08. Princess Zelda's Rescue.npy</td>\n",
       "    </tr>\n",
       "    <tr>\n",
       "      <th>15</th>\n",
       "      <td>4.772075</td>\n",
       "      <td>-63.616512</td>\n",
       "      <td>20. The Silly Pink Rabbit! (Storm).npy</td>\n",
       "    </tr>\n",
       "    <tr>\n",
       "      <th>16</th>\n",
       "      <td>4.529189</td>\n",
       "      <td>-58.253811</td>\n",
       "      <td>29. The Goddess Appears.npy</td>\n",
       "    </tr>\n",
       "    <tr>\n",
       "      <th>17</th>\n",
       "      <td>4.826170</td>\n",
       "      <td>-61.498371</td>\n",
       "      <td>15. Dank Dungeons.npy</td>\n",
       "    </tr>\n",
       "    <tr>\n",
       "      <th>18</th>\n",
       "      <td>5.226358</td>\n",
       "      <td>-65.709961</td>\n",
       "      <td>25. Black Mist.npy</td>\n",
       "    </tr>\n",
       "    <tr>\n",
       "      <th>19</th>\n",
       "      <td>5.239163</td>\n",
       "      <td>-66.044632</td>\n",
       "      <td>27. Dungeon of Shadows.npy</td>\n",
       "    </tr>\n",
       "    <tr>\n",
       "      <th>20</th>\n",
       "      <td>5.097476</td>\n",
       "      <td>-65.380356</td>\n",
       "      <td>16. Lost Ancient Ruins.npy</td>\n",
       "    </tr>\n",
       "    <tr>\n",
       "      <th>21</th>\n",
       "      <td>5.301426</td>\n",
       "      <td>-66.970825</td>\n",
       "      <td>11. Kakariko Village.npy</td>\n",
       "    </tr>\n",
       "    <tr>\n",
       "      <th>22</th>\n",
       "      <td>5.841080</td>\n",
       "      <td>-72.638123</td>\n",
       "      <td>17. Anger of the Guardians.npy</td>\n",
       "    </tr>\n",
       "    <tr>\n",
       "      <th>23</th>\n",
       "      <td>5.459320</td>\n",
       "      <td>-68.297409</td>\n",
       "      <td>10. Hyrule Field Main Theme.npy</td>\n",
       "    </tr>\n",
       "  </tbody>\n",
       "</table>\n",
       "</div>"
      ],
      "text/plain": [
       "        emb1       emb2                                      name\n",
       "0   4.736777 -61.894936            19. The Silly Pink Rabbit!.npy\n",
       "1   4.467158 -57.909126                    13. Fortune Teller.npy\n",
       "2   4.972332 -64.224052      14. Soldiers of Kakariko Village.npy\n",
       "3   4.707441 -60.273178          02. Beginning of the Journey.npy\n",
       "4   5.128002 -64.985802                 21. Forest of Mystery.npy\n",
       "5   5.312803 -67.842026                26. Black Mist (Storm).npy\n",
       "6   5.500286 -68.652939                  24. Dark Golden Land.npy\n",
       "7   5.246337 -66.387787               12. Guessing-Game House.npy\n",
       "8   5.482188 -69.214081             03. Seal of Seven Maidens.npy\n",
       "9   5.382165 -69.052521  05. Time of the Falling Rain (Storm).npy\n",
       "10  5.157629 -66.756516           07. Majestic Castle (Storm).npy\n",
       "11  4.786135 -60.955879           09. Safety in the Sanctuary.npy\n",
       "12  4.927262 -63.450756                   06. Majestic Castle.npy\n",
       "13  5.245690 -66.829933          04. Time of the Falling Rain.npy\n",
       "14  5.473403 -68.097862           08. Princess Zelda's Rescue.npy\n",
       "15  4.772075 -63.616512    20. The Silly Pink Rabbit! (Storm).npy\n",
       "16  4.529189 -58.253811               29. The Goddess Appears.npy\n",
       "17  4.826170 -61.498371                     15. Dank Dungeons.npy\n",
       "18  5.226358 -65.709961                        25. Black Mist.npy\n",
       "19  5.239163 -66.044632                27. Dungeon of Shadows.npy\n",
       "20  5.097476 -65.380356                16. Lost Ancient Ruins.npy\n",
       "21  5.301426 -66.970825                  11. Kakariko Village.npy\n",
       "22  5.841080 -72.638123            17. Anger of the Guardians.npy\n",
       "23  5.459320 -68.297409           10. Hyrule Field Main Theme.npy"
      ]
     },
     "execution_count": 51,
     "metadata": {},
     "output_type": "execute_result"
    }
   ],
   "source": [
    "df = pd.DataFrame(\n",
    "    data = [embd for embd in embeddings.values()],\n",
    "    columns=['emb1', 'emb2']\n",
    ")\n",
    "df['name'] = list(embeddings.keys())\n",
    "df"
   ]
  },
  {
   "cell_type": "markdown",
   "metadata": {},
   "source": [
    "Let's create an index expressing how much the content was changed during preprocessing. That is:\n",
    "```python\n",
    "index = (current_length - previous_length) / previous_length\n",
    "```\n",
    "\n",
    "Thus, if previous_length = k and current_length = 2k, we have index = 1. This means we copied 100% of the original content.\n",
    "If previous_length = 2k and current_length = k, we have index = -1. This means we deleted 100% of the original content.\n",
    "If previous_length = k and current_length = k, we have index = 0. This means we didn't change the original content.\n"
   ]
  },
  {
   "cell_type": "code",
   "execution_count": 52,
   "metadata": {},
   "outputs": [],
   "source": [
    "# Load files\n",
    "\n",
    "# Processed \n",
    "processed_ds = TuneDataset().load_tunes(embeddings_path.parent / 'padded-soundscapes')\n",
    "assert len(processed_ds.file_paths) == df.shape[0]\n",
    "processed_ds.extract_tune(False)\n",
    "# Original\n",
    "original_ds = TuneDataset().load_tunes(\n",
    "    embeddings_path.parents[1] / 'raw' / 'wav'\n",
    ")    \n",
    "original_ds.extract_tune(False)\n",
    "\n",
    "\n",
    "# Let's compute the indexes \n",
    "indexes = {\n",
    "    'name': [],\n",
    "    'index': []\n",
    "}\n",
    "for processed_tune in processed_ds.tunes:\n",
    "    for original_tune in original_ds.tunes:\n",
    "        if original_tune.file_path.name == processed_tune.file_path.name:\n",
    "            indexes['name'].append(processed_tune.file_path.name)\n",
    "            indexes['index'].append(\n",
    "                (processed_tune.time_length-original_tune.time_length)/original_tune.time_length\n",
    "            )\n",
    "indexes_df = pd.DataFrame(indexes)\n",
    "\n",
    "# And add to the dataset\n",
    "df.name = df.name.apply(lambda nm: nm.replace('.npy','.wav')) # replace '.npy' with '.wav'\n",
    "df = pd.merge(df, indexes_df,on='name')"
   ]
  },
  {
   "cell_type": "code",
   "execution_count": 53,
   "metadata": {},
   "outputs": [
    {
     "data": {
      "text/html": [
       "<div>\n",
       "<style scoped>\n",
       "    .dataframe tbody tr th:only-of-type {\n",
       "        vertical-align: middle;\n",
       "    }\n",
       "\n",
       "    .dataframe tbody tr th {\n",
       "        vertical-align: top;\n",
       "    }\n",
       "\n",
       "    .dataframe thead th {\n",
       "        text-align: right;\n",
       "    }\n",
       "</style>\n",
       "<table border=\"1\" class=\"dataframe\">\n",
       "  <thead>\n",
       "    <tr style=\"text-align: right;\">\n",
       "      <th></th>\n",
       "      <th>emb1</th>\n",
       "      <th>emb2</th>\n",
       "      <th>name</th>\n",
       "      <th>index</th>\n",
       "    </tr>\n",
       "  </thead>\n",
       "  <tbody>\n",
       "    <tr>\n",
       "      <th>0</th>\n",
       "      <td>4.736777</td>\n",
       "      <td>-61.894936</td>\n",
       "      <td>19. The Silly Pink Rabbit!.wav</td>\n",
       "      <td>1.159678</td>\n",
       "    </tr>\n",
       "    <tr>\n",
       "      <th>1</th>\n",
       "      <td>4.467158</td>\n",
       "      <td>-57.909126</td>\n",
       "      <td>13. Fortune Teller.wav</td>\n",
       "      <td>1.837358</td>\n",
       "    </tr>\n",
       "    <tr>\n",
       "      <th>2</th>\n",
       "      <td>4.972332</td>\n",
       "      <td>-64.224052</td>\n",
       "      <td>14. Soldiers of Kakariko Village.wav</td>\n",
       "      <td>4.663792</td>\n",
       "    </tr>\n",
       "    <tr>\n",
       "      <th>3</th>\n",
       "      <td>4.707441</td>\n",
       "      <td>-60.273178</td>\n",
       "      <td>02. Beginning of the Journey.wav</td>\n",
       "      <td>1.295067</td>\n",
       "    </tr>\n",
       "    <tr>\n",
       "      <th>4</th>\n",
       "      <td>5.128002</td>\n",
       "      <td>-64.985802</td>\n",
       "      <td>21. Forest of Mystery.wav</td>\n",
       "      <td>1.697153</td>\n",
       "    </tr>\n",
       "    <tr>\n",
       "      <th>5</th>\n",
       "      <td>5.312803</td>\n",
       "      <td>-67.842026</td>\n",
       "      <td>26. Black Mist (Storm).wav</td>\n",
       "      <td>0.102054</td>\n",
       "    </tr>\n",
       "    <tr>\n",
       "      <th>6</th>\n",
       "      <td>5.500286</td>\n",
       "      <td>-68.652939</td>\n",
       "      <td>24. Dark Golden Land.wav</td>\n",
       "      <td>-0.092502</td>\n",
       "    </tr>\n",
       "    <tr>\n",
       "      <th>7</th>\n",
       "      <td>5.246337</td>\n",
       "      <td>-66.387787</td>\n",
       "      <td>12. Guessing-Game House.wav</td>\n",
       "      <td>1.565757</td>\n",
       "    </tr>\n",
       "    <tr>\n",
       "      <th>8</th>\n",
       "      <td>5.482188</td>\n",
       "      <td>-69.214081</td>\n",
       "      <td>03. Seal of Seven Maidens.wav</td>\n",
       "      <td>0.000000</td>\n",
       "    </tr>\n",
       "    <tr>\n",
       "      <th>9</th>\n",
       "      <td>5.382165</td>\n",
       "      <td>-69.052521</td>\n",
       "      <td>05. Time of the Falling Rain (Storm).wav</td>\n",
       "      <td>1.296823</td>\n",
       "    </tr>\n",
       "    <tr>\n",
       "      <th>10</th>\n",
       "      <td>5.157629</td>\n",
       "      <td>-66.756516</td>\n",
       "      <td>07. Majestic Castle (Storm).wav</td>\n",
       "      <td>-0.357033</td>\n",
       "    </tr>\n",
       "    <tr>\n",
       "      <th>11</th>\n",
       "      <td>4.786135</td>\n",
       "      <td>-60.955879</td>\n",
       "      <td>09. Safety in the Sanctuary.wav</td>\n",
       "      <td>0.766903</td>\n",
       "    </tr>\n",
       "    <tr>\n",
       "      <th>12</th>\n",
       "      <td>4.927262</td>\n",
       "      <td>-63.450756</td>\n",
       "      <td>06. Majestic Castle.wav</td>\n",
       "      <td>-0.357033</td>\n",
       "    </tr>\n",
       "    <tr>\n",
       "      <th>13</th>\n",
       "      <td>5.245690</td>\n",
       "      <td>-66.829933</td>\n",
       "      <td>04. Time of the Falling Rain.wav</td>\n",
       "      <td>1.296823</td>\n",
       "    </tr>\n",
       "    <tr>\n",
       "      <th>14</th>\n",
       "      <td>5.473403</td>\n",
       "      <td>-68.097862</td>\n",
       "      <td>08. Princess Zelda's Rescue.wav</td>\n",
       "      <td>0.199837</td>\n",
       "    </tr>\n",
       "    <tr>\n",
       "      <th>15</th>\n",
       "      <td>4.772075</td>\n",
       "      <td>-63.616512</td>\n",
       "      <td>20. The Silly Pink Rabbit! (Storm).wav</td>\n",
       "      <td>1.158126</td>\n",
       "    </tr>\n",
       "    <tr>\n",
       "      <th>16</th>\n",
       "      <td>4.529189</td>\n",
       "      <td>-58.253811</td>\n",
       "      <td>29. The Goddess Appears.wav</td>\n",
       "      <td>1.158126</td>\n",
       "    </tr>\n",
       "    <tr>\n",
       "      <th>17</th>\n",
       "      <td>4.826170</td>\n",
       "      <td>-61.498371</td>\n",
       "      <td>15. Dank Dungeons.wav</td>\n",
       "      <td>1.766754</td>\n",
       "    </tr>\n",
       "    <tr>\n",
       "      <th>18</th>\n",
       "      <td>5.226358</td>\n",
       "      <td>-65.709961</td>\n",
       "      <td>25. Black Mist.wav</td>\n",
       "      <td>0.102054</td>\n",
       "    </tr>\n",
       "    <tr>\n",
       "      <th>19</th>\n",
       "      <td>5.239163</td>\n",
       "      <td>-66.044632</td>\n",
       "      <td>27. Dungeon of Shadows.wav</td>\n",
       "      <td>0.136689</td>\n",
       "    </tr>\n",
       "    <tr>\n",
       "      <th>20</th>\n",
       "      <td>5.097476</td>\n",
       "      <td>-65.380356</td>\n",
       "      <td>16. Lost Ancient Ruins.wav</td>\n",
       "      <td>-0.044253</td>\n",
       "    </tr>\n",
       "    <tr>\n",
       "      <th>21</th>\n",
       "      <td>5.301426</td>\n",
       "      <td>-66.970825</td>\n",
       "      <td>11. Kakariko Village.wav</td>\n",
       "      <td>-0.416064</td>\n",
       "    </tr>\n",
       "    <tr>\n",
       "      <th>22</th>\n",
       "      <td>5.841080</td>\n",
       "      <td>-72.638123</td>\n",
       "      <td>17. Anger of the Guardians.wav</td>\n",
       "      <td>3.306837</td>\n",
       "    </tr>\n",
       "    <tr>\n",
       "      <th>23</th>\n",
       "      <td>5.459320</td>\n",
       "      <td>-68.297409</td>\n",
       "      <td>10. Hyrule Field Main Theme.wav</td>\n",
       "      <td>0.390451</td>\n",
       "    </tr>\n",
       "  </tbody>\n",
       "</table>\n",
       "</div>"
      ],
      "text/plain": [
       "        emb1       emb2                                      name     index\n",
       "0   4.736777 -61.894936            19. The Silly Pink Rabbit!.wav  1.159678\n",
       "1   4.467158 -57.909126                    13. Fortune Teller.wav  1.837358\n",
       "2   4.972332 -64.224052      14. Soldiers of Kakariko Village.wav  4.663792\n",
       "3   4.707441 -60.273178          02. Beginning of the Journey.wav  1.295067\n",
       "4   5.128002 -64.985802                 21. Forest of Mystery.wav  1.697153\n",
       "5   5.312803 -67.842026                26. Black Mist (Storm).wav  0.102054\n",
       "6   5.500286 -68.652939                  24. Dark Golden Land.wav -0.092502\n",
       "7   5.246337 -66.387787               12. Guessing-Game House.wav  1.565757\n",
       "8   5.482188 -69.214081             03. Seal of Seven Maidens.wav  0.000000\n",
       "9   5.382165 -69.052521  05. Time of the Falling Rain (Storm).wav  1.296823\n",
       "10  5.157629 -66.756516           07. Majestic Castle (Storm).wav -0.357033\n",
       "11  4.786135 -60.955879           09. Safety in the Sanctuary.wav  0.766903\n",
       "12  4.927262 -63.450756                   06. Majestic Castle.wav -0.357033\n",
       "13  5.245690 -66.829933          04. Time of the Falling Rain.wav  1.296823\n",
       "14  5.473403 -68.097862           08. Princess Zelda's Rescue.wav  0.199837\n",
       "15  4.772075 -63.616512    20. The Silly Pink Rabbit! (Storm).wav  1.158126\n",
       "16  4.529189 -58.253811               29. The Goddess Appears.wav  1.158126\n",
       "17  4.826170 -61.498371                     15. Dank Dungeons.wav  1.766754\n",
       "18  5.226358 -65.709961                        25. Black Mist.wav  0.102054\n",
       "19  5.239163 -66.044632                27. Dungeon of Shadows.wav  0.136689\n",
       "20  5.097476 -65.380356                16. Lost Ancient Ruins.wav -0.044253\n",
       "21  5.301426 -66.970825                  11. Kakariko Village.wav -0.416064\n",
       "22  5.841080 -72.638123            17. Anger of the Guardians.wav  3.306837\n",
       "23  5.459320 -68.297409           10. Hyrule Field Main Theme.wav  0.390451"
      ]
     },
     "execution_count": 53,
     "metadata": {},
     "output_type": "execute_result"
    }
   ],
   "source": [
    "df"
   ]
  },
  {
   "cell_type": "markdown",
   "metadata": {},
   "source": [
    "# Scatter Plot"
   ]
  },
  {
   "cell_type": "code",
   "execution_count": 54,
   "metadata": {},
   "outputs": [
    {
     "data": {
      "application/vnd.plotly.v1+json": {
       "config": {
        "plotlyServerURL": "https://plot.ly"
       },
       "data": [
        {
         "customdata": [
          [
           "19. The Silly Pink Rabbit!.wav"
          ],
          [
           "13. Fortune Teller.wav"
          ],
          [
           "14. Soldiers of Kakariko Village.wav"
          ],
          [
           "02. Beginning of the Journey.wav"
          ],
          [
           "21. Forest of Mystery.wav"
          ],
          [
           "26. Black Mist (Storm).wav"
          ],
          [
           "24. Dark Golden Land.wav"
          ],
          [
           "12. Guessing-Game House.wav"
          ],
          [
           "03. Seal of Seven Maidens.wav"
          ],
          [
           "05. Time of the Falling Rain (Storm).wav"
          ],
          [
           "07. Majestic Castle (Storm).wav"
          ],
          [
           "09. Safety in the Sanctuary.wav"
          ],
          [
           "06. Majestic Castle.wav"
          ],
          [
           "04. Time of the Falling Rain.wav"
          ],
          [
           "08. Princess Zelda's Rescue.wav"
          ],
          [
           "20. The Silly Pink Rabbit! (Storm).wav"
          ],
          [
           "29. The Goddess Appears.wav"
          ],
          [
           "15. Dank Dungeons.wav"
          ],
          [
           "25. Black Mist.wav"
          ],
          [
           "27. Dungeon of Shadows.wav"
          ],
          [
           "16. Lost Ancient Ruins.wav"
          ],
          [
           "11. Kakariko Village.wav"
          ],
          [
           "17. Anger of the Guardians.wav"
          ],
          [
           "10. Hyrule Field Main Theme.wav"
          ]
         ],
         "hovertemplate": "emb1=%{x}<br>emb2=%{y}<br>name=%{customdata[0]}<br>index=%{marker.color}<extra></extra>",
         "legendgroup": "",
         "marker": {
          "color": [
           1.1596781918995933,
           1.8373582592957536,
           4.6637919316352425,
           1.2950666384402563,
           1.6971525233910172,
           0.10205427177953515,
           -0.09250188211961431,
           1.5657573669009346,
           0,
           1.296822564223812,
           -0.3570326480111029,
           0.7669033027724487,
           -0.3570326480111029,
           1.296822564223812,
           0.19983686927789154,
           1.1581256291034079,
           1.1581256291034079,
           1.7667538423014366,
           0.10205427177953515,
           0.1366885358945782,
           -0.04425284767439571,
           -0.41606361120064755,
           3.306836564793379,
           0.39045116726941576
          ],
          "coloraxis": "coloraxis",
          "symbol": "circle"
         },
         "mode": "markers",
         "name": "",
         "orientation": "v",
         "showlegend": false,
         "type": "scatter",
         "x": [
          4.736776828765869,
          4.467158317565918,
          4.97233247756958,
          4.707441329956055,
          5.128002166748047,
          5.312802791595459,
          5.500285625457764,
          5.246336936950684,
          5.482187747955322,
          5.38216495513916,
          5.157629013061523,
          4.786135196685791,
          4.927262306213379,
          5.245689868927002,
          5.473402500152588,
          4.772075176239014,
          4.529189109802246,
          4.826169967651367,
          5.226357936859131,
          5.239162921905518,
          5.097475528717041,
          5.301426410675049,
          5.841080188751221,
          5.459320068359375
         ],
         "xaxis": "x",
         "y": [
          -61.894935607910156,
          -57.90912628173828,
          -64.22405242919922,
          -60.27317810058594,
          -64.98580169677734,
          -67.84202575683594,
          -68.65293884277344,
          -66.38778686523438,
          -69.21408081054688,
          -69.05252075195312,
          -66.75651550292969,
          -60.95587921142578,
          -63.45075607299805,
          -66.8299331665039,
          -68.09786224365234,
          -63.616512298583984,
          -58.25381088256836,
          -61.49837112426758,
          -65.7099609375,
          -66.04463195800781,
          -65.38035583496094,
          -66.9708251953125,
          -72.63812255859375,
          -68.29740905761719
         ],
         "yaxis": "y"
        }
       ],
       "layout": {
        "coloraxis": {
         "colorbar": {
          "title": {
           "text": "index"
          }
         },
         "colorscale": [
          [
           0,
           "#0d0887"
          ],
          [
           0.1111111111111111,
           "#46039f"
          ],
          [
           0.2222222222222222,
           "#7201a8"
          ],
          [
           0.3333333333333333,
           "#9c179e"
          ],
          [
           0.4444444444444444,
           "#bd3786"
          ],
          [
           0.5555555555555556,
           "#d8576b"
          ],
          [
           0.6666666666666666,
           "#ed7953"
          ],
          [
           0.7777777777777778,
           "#fb9f3a"
          ],
          [
           0.8888888888888888,
           "#fdca26"
          ],
          [
           1,
           "#f0f921"
          ]
         ]
        },
        "legend": {
         "tracegroupgap": 0
        },
        "template": {
         "data": {
          "bar": [
           {
            "error_x": {
             "color": "#2a3f5f"
            },
            "error_y": {
             "color": "#2a3f5f"
            },
            "marker": {
             "line": {
              "color": "#E5ECF6",
              "width": 0.5
             },
             "pattern": {
              "fillmode": "overlay",
              "size": 10,
              "solidity": 0.2
             }
            },
            "type": "bar"
           }
          ],
          "barpolar": [
           {
            "marker": {
             "line": {
              "color": "#E5ECF6",
              "width": 0.5
             },
             "pattern": {
              "fillmode": "overlay",
              "size": 10,
              "solidity": 0.2
             }
            },
            "type": "barpolar"
           }
          ],
          "carpet": [
           {
            "aaxis": {
             "endlinecolor": "#2a3f5f",
             "gridcolor": "white",
             "linecolor": "white",
             "minorgridcolor": "white",
             "startlinecolor": "#2a3f5f"
            },
            "baxis": {
             "endlinecolor": "#2a3f5f",
             "gridcolor": "white",
             "linecolor": "white",
             "minorgridcolor": "white",
             "startlinecolor": "#2a3f5f"
            },
            "type": "carpet"
           }
          ],
          "choropleth": [
           {
            "colorbar": {
             "outlinewidth": 0,
             "ticks": ""
            },
            "type": "choropleth"
           }
          ],
          "contour": [
           {
            "colorbar": {
             "outlinewidth": 0,
             "ticks": ""
            },
            "colorscale": [
             [
              0,
              "#0d0887"
             ],
             [
              0.1111111111111111,
              "#46039f"
             ],
             [
              0.2222222222222222,
              "#7201a8"
             ],
             [
              0.3333333333333333,
              "#9c179e"
             ],
             [
              0.4444444444444444,
              "#bd3786"
             ],
             [
              0.5555555555555556,
              "#d8576b"
             ],
             [
              0.6666666666666666,
              "#ed7953"
             ],
             [
              0.7777777777777778,
              "#fb9f3a"
             ],
             [
              0.8888888888888888,
              "#fdca26"
             ],
             [
              1,
              "#f0f921"
             ]
            ],
            "type": "contour"
           }
          ],
          "contourcarpet": [
           {
            "colorbar": {
             "outlinewidth": 0,
             "ticks": ""
            },
            "type": "contourcarpet"
           }
          ],
          "heatmap": [
           {
            "colorbar": {
             "outlinewidth": 0,
             "ticks": ""
            },
            "colorscale": [
             [
              0,
              "#0d0887"
             ],
             [
              0.1111111111111111,
              "#46039f"
             ],
             [
              0.2222222222222222,
              "#7201a8"
             ],
             [
              0.3333333333333333,
              "#9c179e"
             ],
             [
              0.4444444444444444,
              "#bd3786"
             ],
             [
              0.5555555555555556,
              "#d8576b"
             ],
             [
              0.6666666666666666,
              "#ed7953"
             ],
             [
              0.7777777777777778,
              "#fb9f3a"
             ],
             [
              0.8888888888888888,
              "#fdca26"
             ],
             [
              1,
              "#f0f921"
             ]
            ],
            "type": "heatmap"
           }
          ],
          "heatmapgl": [
           {
            "colorbar": {
             "outlinewidth": 0,
             "ticks": ""
            },
            "colorscale": [
             [
              0,
              "#0d0887"
             ],
             [
              0.1111111111111111,
              "#46039f"
             ],
             [
              0.2222222222222222,
              "#7201a8"
             ],
             [
              0.3333333333333333,
              "#9c179e"
             ],
             [
              0.4444444444444444,
              "#bd3786"
             ],
             [
              0.5555555555555556,
              "#d8576b"
             ],
             [
              0.6666666666666666,
              "#ed7953"
             ],
             [
              0.7777777777777778,
              "#fb9f3a"
             ],
             [
              0.8888888888888888,
              "#fdca26"
             ],
             [
              1,
              "#f0f921"
             ]
            ],
            "type": "heatmapgl"
           }
          ],
          "histogram": [
           {
            "marker": {
             "pattern": {
              "fillmode": "overlay",
              "size": 10,
              "solidity": 0.2
             }
            },
            "type": "histogram"
           }
          ],
          "histogram2d": [
           {
            "colorbar": {
             "outlinewidth": 0,
             "ticks": ""
            },
            "colorscale": [
             [
              0,
              "#0d0887"
             ],
             [
              0.1111111111111111,
              "#46039f"
             ],
             [
              0.2222222222222222,
              "#7201a8"
             ],
             [
              0.3333333333333333,
              "#9c179e"
             ],
             [
              0.4444444444444444,
              "#bd3786"
             ],
             [
              0.5555555555555556,
              "#d8576b"
             ],
             [
              0.6666666666666666,
              "#ed7953"
             ],
             [
              0.7777777777777778,
              "#fb9f3a"
             ],
             [
              0.8888888888888888,
              "#fdca26"
             ],
             [
              1,
              "#f0f921"
             ]
            ],
            "type": "histogram2d"
           }
          ],
          "histogram2dcontour": [
           {
            "colorbar": {
             "outlinewidth": 0,
             "ticks": ""
            },
            "colorscale": [
             [
              0,
              "#0d0887"
             ],
             [
              0.1111111111111111,
              "#46039f"
             ],
             [
              0.2222222222222222,
              "#7201a8"
             ],
             [
              0.3333333333333333,
              "#9c179e"
             ],
             [
              0.4444444444444444,
              "#bd3786"
             ],
             [
              0.5555555555555556,
              "#d8576b"
             ],
             [
              0.6666666666666666,
              "#ed7953"
             ],
             [
              0.7777777777777778,
              "#fb9f3a"
             ],
             [
              0.8888888888888888,
              "#fdca26"
             ],
             [
              1,
              "#f0f921"
             ]
            ],
            "type": "histogram2dcontour"
           }
          ],
          "mesh3d": [
           {
            "colorbar": {
             "outlinewidth": 0,
             "ticks": ""
            },
            "type": "mesh3d"
           }
          ],
          "parcoords": [
           {
            "line": {
             "colorbar": {
              "outlinewidth": 0,
              "ticks": ""
             }
            },
            "type": "parcoords"
           }
          ],
          "pie": [
           {
            "automargin": true,
            "type": "pie"
           }
          ],
          "scatter": [
           {
            "fillpattern": {
             "fillmode": "overlay",
             "size": 10,
             "solidity": 0.2
            },
            "type": "scatter"
           }
          ],
          "scatter3d": [
           {
            "line": {
             "colorbar": {
              "outlinewidth": 0,
              "ticks": ""
             }
            },
            "marker": {
             "colorbar": {
              "outlinewidth": 0,
              "ticks": ""
             }
            },
            "type": "scatter3d"
           }
          ],
          "scattercarpet": [
           {
            "marker": {
             "colorbar": {
              "outlinewidth": 0,
              "ticks": ""
             }
            },
            "type": "scattercarpet"
           }
          ],
          "scattergeo": [
           {
            "marker": {
             "colorbar": {
              "outlinewidth": 0,
              "ticks": ""
             }
            },
            "type": "scattergeo"
           }
          ],
          "scattergl": [
           {
            "marker": {
             "colorbar": {
              "outlinewidth": 0,
              "ticks": ""
             }
            },
            "type": "scattergl"
           }
          ],
          "scattermapbox": [
           {
            "marker": {
             "colorbar": {
              "outlinewidth": 0,
              "ticks": ""
             }
            },
            "type": "scattermapbox"
           }
          ],
          "scatterpolar": [
           {
            "marker": {
             "colorbar": {
              "outlinewidth": 0,
              "ticks": ""
             }
            },
            "type": "scatterpolar"
           }
          ],
          "scatterpolargl": [
           {
            "marker": {
             "colorbar": {
              "outlinewidth": 0,
              "ticks": ""
             }
            },
            "type": "scatterpolargl"
           }
          ],
          "scatterternary": [
           {
            "marker": {
             "colorbar": {
              "outlinewidth": 0,
              "ticks": ""
             }
            },
            "type": "scatterternary"
           }
          ],
          "surface": [
           {
            "colorbar": {
             "outlinewidth": 0,
             "ticks": ""
            },
            "colorscale": [
             [
              0,
              "#0d0887"
             ],
             [
              0.1111111111111111,
              "#46039f"
             ],
             [
              0.2222222222222222,
              "#7201a8"
             ],
             [
              0.3333333333333333,
              "#9c179e"
             ],
             [
              0.4444444444444444,
              "#bd3786"
             ],
             [
              0.5555555555555556,
              "#d8576b"
             ],
             [
              0.6666666666666666,
              "#ed7953"
             ],
             [
              0.7777777777777778,
              "#fb9f3a"
             ],
             [
              0.8888888888888888,
              "#fdca26"
             ],
             [
              1,
              "#f0f921"
             ]
            ],
            "type": "surface"
           }
          ],
          "table": [
           {
            "cells": {
             "fill": {
              "color": "#EBF0F8"
             },
             "line": {
              "color": "white"
             }
            },
            "header": {
             "fill": {
              "color": "#C8D4E3"
             },
             "line": {
              "color": "white"
             }
            },
            "type": "table"
           }
          ]
         },
         "layout": {
          "annotationdefaults": {
           "arrowcolor": "#2a3f5f",
           "arrowhead": 0,
           "arrowwidth": 1
          },
          "autotypenumbers": "strict",
          "coloraxis": {
           "colorbar": {
            "outlinewidth": 0,
            "ticks": ""
           }
          },
          "colorscale": {
           "diverging": [
            [
             0,
             "#8e0152"
            ],
            [
             0.1,
             "#c51b7d"
            ],
            [
             0.2,
             "#de77ae"
            ],
            [
             0.3,
             "#f1b6da"
            ],
            [
             0.4,
             "#fde0ef"
            ],
            [
             0.5,
             "#f7f7f7"
            ],
            [
             0.6,
             "#e6f5d0"
            ],
            [
             0.7,
             "#b8e186"
            ],
            [
             0.8,
             "#7fbc41"
            ],
            [
             0.9,
             "#4d9221"
            ],
            [
             1,
             "#276419"
            ]
           ],
           "sequential": [
            [
             0,
             "#0d0887"
            ],
            [
             0.1111111111111111,
             "#46039f"
            ],
            [
             0.2222222222222222,
             "#7201a8"
            ],
            [
             0.3333333333333333,
             "#9c179e"
            ],
            [
             0.4444444444444444,
             "#bd3786"
            ],
            [
             0.5555555555555556,
             "#d8576b"
            ],
            [
             0.6666666666666666,
             "#ed7953"
            ],
            [
             0.7777777777777778,
             "#fb9f3a"
            ],
            [
             0.8888888888888888,
             "#fdca26"
            ],
            [
             1,
             "#f0f921"
            ]
           ],
           "sequentialminus": [
            [
             0,
             "#0d0887"
            ],
            [
             0.1111111111111111,
             "#46039f"
            ],
            [
             0.2222222222222222,
             "#7201a8"
            ],
            [
             0.3333333333333333,
             "#9c179e"
            ],
            [
             0.4444444444444444,
             "#bd3786"
            ],
            [
             0.5555555555555556,
             "#d8576b"
            ],
            [
             0.6666666666666666,
             "#ed7953"
            ],
            [
             0.7777777777777778,
             "#fb9f3a"
            ],
            [
             0.8888888888888888,
             "#fdca26"
            ],
            [
             1,
             "#f0f921"
            ]
           ]
          },
          "colorway": [
           "#636efa",
           "#EF553B",
           "#00cc96",
           "#ab63fa",
           "#FFA15A",
           "#19d3f3",
           "#FF6692",
           "#B6E880",
           "#FF97FF",
           "#FECB52"
          ],
          "font": {
           "color": "#2a3f5f"
          },
          "geo": {
           "bgcolor": "white",
           "lakecolor": "white",
           "landcolor": "#E5ECF6",
           "showlakes": true,
           "showland": true,
           "subunitcolor": "white"
          },
          "hoverlabel": {
           "align": "left"
          },
          "hovermode": "closest",
          "mapbox": {
           "style": "light"
          },
          "paper_bgcolor": "white",
          "plot_bgcolor": "#E5ECF6",
          "polar": {
           "angularaxis": {
            "gridcolor": "white",
            "linecolor": "white",
            "ticks": ""
           },
           "bgcolor": "#E5ECF6",
           "radialaxis": {
            "gridcolor": "white",
            "linecolor": "white",
            "ticks": ""
           }
          },
          "scene": {
           "xaxis": {
            "backgroundcolor": "#E5ECF6",
            "gridcolor": "white",
            "gridwidth": 2,
            "linecolor": "white",
            "showbackground": true,
            "ticks": "",
            "zerolinecolor": "white"
           },
           "yaxis": {
            "backgroundcolor": "#E5ECF6",
            "gridcolor": "white",
            "gridwidth": 2,
            "linecolor": "white",
            "showbackground": true,
            "ticks": "",
            "zerolinecolor": "white"
           },
           "zaxis": {
            "backgroundcolor": "#E5ECF6",
            "gridcolor": "white",
            "gridwidth": 2,
            "linecolor": "white",
            "showbackground": true,
            "ticks": "",
            "zerolinecolor": "white"
           }
          },
          "shapedefaults": {
           "line": {
            "color": "#2a3f5f"
           }
          },
          "ternary": {
           "aaxis": {
            "gridcolor": "white",
            "linecolor": "white",
            "ticks": ""
           },
           "baxis": {
            "gridcolor": "white",
            "linecolor": "white",
            "ticks": ""
           },
           "bgcolor": "#E5ECF6",
           "caxis": {
            "gridcolor": "white",
            "linecolor": "white",
            "ticks": ""
           }
          },
          "title": {
           "x": 0.05
          },
          "xaxis": {
           "automargin": true,
           "gridcolor": "white",
           "linecolor": "white",
           "ticks": "",
           "title": {
            "standoff": 15
           },
           "zerolinecolor": "white",
           "zerolinewidth": 2
          },
          "yaxis": {
           "automargin": true,
           "gridcolor": "white",
           "linecolor": "white",
           "ticks": "",
           "title": {
            "standoff": 15
           },
           "zerolinecolor": "white",
           "zerolinewidth": 2
          }
         }
        },
        "title": {
         "text": "Embeddings"
        },
        "xaxis": {
         "anchor": "y",
         "domain": [
          0,
          1
         ],
         "title": {
          "text": "emb1"
         }
        },
        "yaxis": {
         "anchor": "x",
         "domain": [
          0,
          1
         ],
         "title": {
          "text": "emb2"
         }
        }
       }
      },
      "text/html": [
       "<div>                            <div id=\"9afb281d-e559-4281-80d4-77e535239267\" class=\"plotly-graph-div\" style=\"height:525px; width:100%;\"></div>            <script type=\"text/javascript\">                require([\"plotly\"], function(Plotly) {                    window.PLOTLYENV=window.PLOTLYENV || {};                                    if (document.getElementById(\"9afb281d-e559-4281-80d4-77e535239267\")) {                    Plotly.newPlot(                        \"9afb281d-e559-4281-80d4-77e535239267\",                        [{\"customdata\":[[\"19. The Silly Pink Rabbit!.wav\"],[\"13. Fortune Teller.wav\"],[\"14. Soldiers of Kakariko Village.wav\"],[\"02. Beginning of the Journey.wav\"],[\"21. Forest of Mystery.wav\"],[\"26. Black Mist (Storm).wav\"],[\"24. Dark Golden Land.wav\"],[\"12. Guessing-Game House.wav\"],[\"03. Seal of Seven Maidens.wav\"],[\"05. Time of the Falling Rain (Storm).wav\"],[\"07. Majestic Castle (Storm).wav\"],[\"09. Safety in the Sanctuary.wav\"],[\"06. Majestic Castle.wav\"],[\"04. Time of the Falling Rain.wav\"],[\"08. Princess Zelda's Rescue.wav\"],[\"20. The Silly Pink Rabbit! (Storm).wav\"],[\"29. The Goddess Appears.wav\"],[\"15. Dank Dungeons.wav\"],[\"25. Black Mist.wav\"],[\"27. Dungeon of Shadows.wav\"],[\"16. Lost Ancient Ruins.wav\"],[\"11. Kakariko Village.wav\"],[\"17. Anger of the Guardians.wav\"],[\"10. Hyrule Field Main Theme.wav\"]],\"hovertemplate\":\"emb1=%{x}\\u003cbr\\u003eemb2=%{y}\\u003cbr\\u003ename=%{customdata[0]}\\u003cbr\\u003eindex=%{marker.color}\\u003cextra\\u003e\\u003c\\u002fextra\\u003e\",\"legendgroup\":\"\",\"marker\":{\"color\":[1.1596781918995933,1.8373582592957536,4.6637919316352425,1.2950666384402563,1.6971525233910172,0.10205427177953515,-0.09250188211961431,1.5657573669009346,0.0,1.296822564223812,-0.3570326480111029,0.7669033027724487,-0.3570326480111029,1.296822564223812,0.19983686927789154,1.1581256291034079,1.1581256291034079,1.7667538423014366,0.10205427177953515,0.1366885358945782,-0.04425284767439571,-0.41606361120064755,3.306836564793379,0.39045116726941576],\"coloraxis\":\"coloraxis\",\"symbol\":\"circle\"},\"mode\":\"markers\",\"name\":\"\",\"orientation\":\"v\",\"showlegend\":false,\"x\":[4.736776828765869,4.467158317565918,4.97233247756958,4.707441329956055,5.128002166748047,5.312802791595459,5.500285625457764,5.246336936950684,5.482187747955322,5.38216495513916,5.157629013061523,4.786135196685791,4.927262306213379,5.245689868927002,5.473402500152588,4.772075176239014,4.529189109802246,4.826169967651367,5.226357936859131,5.239162921905518,5.097475528717041,5.301426410675049,5.841080188751221,5.459320068359375],\"xaxis\":\"x\",\"y\":[-61.894935607910156,-57.90912628173828,-64.22405242919922,-60.27317810058594,-64.98580169677734,-67.84202575683594,-68.65293884277344,-66.38778686523438,-69.21408081054688,-69.05252075195312,-66.75651550292969,-60.95587921142578,-63.45075607299805,-66.8299331665039,-68.09786224365234,-63.616512298583984,-58.25381088256836,-61.49837112426758,-65.7099609375,-66.04463195800781,-65.38035583496094,-66.9708251953125,-72.63812255859375,-68.29740905761719],\"yaxis\":\"y\",\"type\":\"scatter\"}],                        {\"template\":{\"data\":{\"histogram2dcontour\":[{\"type\":\"histogram2dcontour\",\"colorbar\":{\"outlinewidth\":0,\"ticks\":\"\"},\"colorscale\":[[0.0,\"#0d0887\"],[0.1111111111111111,\"#46039f\"],[0.2222222222222222,\"#7201a8\"],[0.3333333333333333,\"#9c179e\"],[0.4444444444444444,\"#bd3786\"],[0.5555555555555556,\"#d8576b\"],[0.6666666666666666,\"#ed7953\"],[0.7777777777777778,\"#fb9f3a\"],[0.8888888888888888,\"#fdca26\"],[1.0,\"#f0f921\"]]}],\"choropleth\":[{\"type\":\"choropleth\",\"colorbar\":{\"outlinewidth\":0,\"ticks\":\"\"}}],\"histogram2d\":[{\"type\":\"histogram2d\",\"colorbar\":{\"outlinewidth\":0,\"ticks\":\"\"},\"colorscale\":[[0.0,\"#0d0887\"],[0.1111111111111111,\"#46039f\"],[0.2222222222222222,\"#7201a8\"],[0.3333333333333333,\"#9c179e\"],[0.4444444444444444,\"#bd3786\"],[0.5555555555555556,\"#d8576b\"],[0.6666666666666666,\"#ed7953\"],[0.7777777777777778,\"#fb9f3a\"],[0.8888888888888888,\"#fdca26\"],[1.0,\"#f0f921\"]]}],\"heatmap\":[{\"type\":\"heatmap\",\"colorbar\":{\"outlinewidth\":0,\"ticks\":\"\"},\"colorscale\":[[0.0,\"#0d0887\"],[0.1111111111111111,\"#46039f\"],[0.2222222222222222,\"#7201a8\"],[0.3333333333333333,\"#9c179e\"],[0.4444444444444444,\"#bd3786\"],[0.5555555555555556,\"#d8576b\"],[0.6666666666666666,\"#ed7953\"],[0.7777777777777778,\"#fb9f3a\"],[0.8888888888888888,\"#fdca26\"],[1.0,\"#f0f921\"]]}],\"heatmapgl\":[{\"type\":\"heatmapgl\",\"colorbar\":{\"outlinewidth\":0,\"ticks\":\"\"},\"colorscale\":[[0.0,\"#0d0887\"],[0.1111111111111111,\"#46039f\"],[0.2222222222222222,\"#7201a8\"],[0.3333333333333333,\"#9c179e\"],[0.4444444444444444,\"#bd3786\"],[0.5555555555555556,\"#d8576b\"],[0.6666666666666666,\"#ed7953\"],[0.7777777777777778,\"#fb9f3a\"],[0.8888888888888888,\"#fdca26\"],[1.0,\"#f0f921\"]]}],\"contourcarpet\":[{\"type\":\"contourcarpet\",\"colorbar\":{\"outlinewidth\":0,\"ticks\":\"\"}}],\"contour\":[{\"type\":\"contour\",\"colorbar\":{\"outlinewidth\":0,\"ticks\":\"\"},\"colorscale\":[[0.0,\"#0d0887\"],[0.1111111111111111,\"#46039f\"],[0.2222222222222222,\"#7201a8\"],[0.3333333333333333,\"#9c179e\"],[0.4444444444444444,\"#bd3786\"],[0.5555555555555556,\"#d8576b\"],[0.6666666666666666,\"#ed7953\"],[0.7777777777777778,\"#fb9f3a\"],[0.8888888888888888,\"#fdca26\"],[1.0,\"#f0f921\"]]}],\"surface\":[{\"type\":\"surface\",\"colorbar\":{\"outlinewidth\":0,\"ticks\":\"\"},\"colorscale\":[[0.0,\"#0d0887\"],[0.1111111111111111,\"#46039f\"],[0.2222222222222222,\"#7201a8\"],[0.3333333333333333,\"#9c179e\"],[0.4444444444444444,\"#bd3786\"],[0.5555555555555556,\"#d8576b\"],[0.6666666666666666,\"#ed7953\"],[0.7777777777777778,\"#fb9f3a\"],[0.8888888888888888,\"#fdca26\"],[1.0,\"#f0f921\"]]}],\"mesh3d\":[{\"type\":\"mesh3d\",\"colorbar\":{\"outlinewidth\":0,\"ticks\":\"\"}}],\"scatter\":[{\"fillpattern\":{\"fillmode\":\"overlay\",\"size\":10,\"solidity\":0.2},\"type\":\"scatter\"}],\"parcoords\":[{\"type\":\"parcoords\",\"line\":{\"colorbar\":{\"outlinewidth\":0,\"ticks\":\"\"}}}],\"scatterpolargl\":[{\"type\":\"scatterpolargl\",\"marker\":{\"colorbar\":{\"outlinewidth\":0,\"ticks\":\"\"}}}],\"bar\":[{\"error_x\":{\"color\":\"#2a3f5f\"},\"error_y\":{\"color\":\"#2a3f5f\"},\"marker\":{\"line\":{\"color\":\"#E5ECF6\",\"width\":0.5},\"pattern\":{\"fillmode\":\"overlay\",\"size\":10,\"solidity\":0.2}},\"type\":\"bar\"}],\"scattergeo\":[{\"type\":\"scattergeo\",\"marker\":{\"colorbar\":{\"outlinewidth\":0,\"ticks\":\"\"}}}],\"scatterpolar\":[{\"type\":\"scatterpolar\",\"marker\":{\"colorbar\":{\"outlinewidth\":0,\"ticks\":\"\"}}}],\"histogram\":[{\"marker\":{\"pattern\":{\"fillmode\":\"overlay\",\"size\":10,\"solidity\":0.2}},\"type\":\"histogram\"}],\"scattergl\":[{\"type\":\"scattergl\",\"marker\":{\"colorbar\":{\"outlinewidth\":0,\"ticks\":\"\"}}}],\"scatter3d\":[{\"type\":\"scatter3d\",\"line\":{\"colorbar\":{\"outlinewidth\":0,\"ticks\":\"\"}},\"marker\":{\"colorbar\":{\"outlinewidth\":0,\"ticks\":\"\"}}}],\"scattermapbox\":[{\"type\":\"scattermapbox\",\"marker\":{\"colorbar\":{\"outlinewidth\":0,\"ticks\":\"\"}}}],\"scatterternary\":[{\"type\":\"scatterternary\",\"marker\":{\"colorbar\":{\"outlinewidth\":0,\"ticks\":\"\"}}}],\"scattercarpet\":[{\"type\":\"scattercarpet\",\"marker\":{\"colorbar\":{\"outlinewidth\":0,\"ticks\":\"\"}}}],\"carpet\":[{\"aaxis\":{\"endlinecolor\":\"#2a3f5f\",\"gridcolor\":\"white\",\"linecolor\":\"white\",\"minorgridcolor\":\"white\",\"startlinecolor\":\"#2a3f5f\"},\"baxis\":{\"endlinecolor\":\"#2a3f5f\",\"gridcolor\":\"white\",\"linecolor\":\"white\",\"minorgridcolor\":\"white\",\"startlinecolor\":\"#2a3f5f\"},\"type\":\"carpet\"}],\"table\":[{\"cells\":{\"fill\":{\"color\":\"#EBF0F8\"},\"line\":{\"color\":\"white\"}},\"header\":{\"fill\":{\"color\":\"#C8D4E3\"},\"line\":{\"color\":\"white\"}},\"type\":\"table\"}],\"barpolar\":[{\"marker\":{\"line\":{\"color\":\"#E5ECF6\",\"width\":0.5},\"pattern\":{\"fillmode\":\"overlay\",\"size\":10,\"solidity\":0.2}},\"type\":\"barpolar\"}],\"pie\":[{\"automargin\":true,\"type\":\"pie\"}]},\"layout\":{\"autotypenumbers\":\"strict\",\"colorway\":[\"#636efa\",\"#EF553B\",\"#00cc96\",\"#ab63fa\",\"#FFA15A\",\"#19d3f3\",\"#FF6692\",\"#B6E880\",\"#FF97FF\",\"#FECB52\"],\"font\":{\"color\":\"#2a3f5f\"},\"hovermode\":\"closest\",\"hoverlabel\":{\"align\":\"left\"},\"paper_bgcolor\":\"white\",\"plot_bgcolor\":\"#E5ECF6\",\"polar\":{\"bgcolor\":\"#E5ECF6\",\"angularaxis\":{\"gridcolor\":\"white\",\"linecolor\":\"white\",\"ticks\":\"\"},\"radialaxis\":{\"gridcolor\":\"white\",\"linecolor\":\"white\",\"ticks\":\"\"}},\"ternary\":{\"bgcolor\":\"#E5ECF6\",\"aaxis\":{\"gridcolor\":\"white\",\"linecolor\":\"white\",\"ticks\":\"\"},\"baxis\":{\"gridcolor\":\"white\",\"linecolor\":\"white\",\"ticks\":\"\"},\"caxis\":{\"gridcolor\":\"white\",\"linecolor\":\"white\",\"ticks\":\"\"}},\"coloraxis\":{\"colorbar\":{\"outlinewidth\":0,\"ticks\":\"\"}},\"colorscale\":{\"sequential\":[[0.0,\"#0d0887\"],[0.1111111111111111,\"#46039f\"],[0.2222222222222222,\"#7201a8\"],[0.3333333333333333,\"#9c179e\"],[0.4444444444444444,\"#bd3786\"],[0.5555555555555556,\"#d8576b\"],[0.6666666666666666,\"#ed7953\"],[0.7777777777777778,\"#fb9f3a\"],[0.8888888888888888,\"#fdca26\"],[1.0,\"#f0f921\"]],\"sequentialminus\":[[0.0,\"#0d0887\"],[0.1111111111111111,\"#46039f\"],[0.2222222222222222,\"#7201a8\"],[0.3333333333333333,\"#9c179e\"],[0.4444444444444444,\"#bd3786\"],[0.5555555555555556,\"#d8576b\"],[0.6666666666666666,\"#ed7953\"],[0.7777777777777778,\"#fb9f3a\"],[0.8888888888888888,\"#fdca26\"],[1.0,\"#f0f921\"]],\"diverging\":[[0,\"#8e0152\"],[0.1,\"#c51b7d\"],[0.2,\"#de77ae\"],[0.3,\"#f1b6da\"],[0.4,\"#fde0ef\"],[0.5,\"#f7f7f7\"],[0.6,\"#e6f5d0\"],[0.7,\"#b8e186\"],[0.8,\"#7fbc41\"],[0.9,\"#4d9221\"],[1,\"#276419\"]]},\"xaxis\":{\"gridcolor\":\"white\",\"linecolor\":\"white\",\"ticks\":\"\",\"title\":{\"standoff\":15},\"zerolinecolor\":\"white\",\"automargin\":true,\"zerolinewidth\":2},\"yaxis\":{\"gridcolor\":\"white\",\"linecolor\":\"white\",\"ticks\":\"\",\"title\":{\"standoff\":15},\"zerolinecolor\":\"white\",\"automargin\":true,\"zerolinewidth\":2},\"scene\":{\"xaxis\":{\"backgroundcolor\":\"#E5ECF6\",\"gridcolor\":\"white\",\"linecolor\":\"white\",\"showbackground\":true,\"ticks\":\"\",\"zerolinecolor\":\"white\",\"gridwidth\":2},\"yaxis\":{\"backgroundcolor\":\"#E5ECF6\",\"gridcolor\":\"white\",\"linecolor\":\"white\",\"showbackground\":true,\"ticks\":\"\",\"zerolinecolor\":\"white\",\"gridwidth\":2},\"zaxis\":{\"backgroundcolor\":\"#E5ECF6\",\"gridcolor\":\"white\",\"linecolor\":\"white\",\"showbackground\":true,\"ticks\":\"\",\"zerolinecolor\":\"white\",\"gridwidth\":2}},\"shapedefaults\":{\"line\":{\"color\":\"#2a3f5f\"}},\"annotationdefaults\":{\"arrowcolor\":\"#2a3f5f\",\"arrowhead\":0,\"arrowwidth\":1},\"geo\":{\"bgcolor\":\"white\",\"landcolor\":\"#E5ECF6\",\"subunitcolor\":\"white\",\"showland\":true,\"showlakes\":true,\"lakecolor\":\"white\"},\"title\":{\"x\":0.05},\"mapbox\":{\"style\":\"light\"}}},\"xaxis\":{\"anchor\":\"y\",\"domain\":[0.0,1.0],\"title\":{\"text\":\"emb1\"}},\"yaxis\":{\"anchor\":\"x\",\"domain\":[0.0,1.0],\"title\":{\"text\":\"emb2\"}},\"coloraxis\":{\"colorbar\":{\"title\":{\"text\":\"index\"}},\"colorscale\":[[0.0,\"#0d0887\"],[0.1111111111111111,\"#46039f\"],[0.2222222222222222,\"#7201a8\"],[0.3333333333333333,\"#9c179e\"],[0.4444444444444444,\"#bd3786\"],[0.5555555555555556,\"#d8576b\"],[0.6666666666666666,\"#ed7953\"],[0.7777777777777778,\"#fb9f3a\"],[0.8888888888888888,\"#fdca26\"],[1.0,\"#f0f921\"]]},\"legend\":{\"tracegroupgap\":0},\"title\":{\"text\":\"Embeddings\"}},                        {\"responsive\": true}                    ).then(function(){\n",
       "                            \n",
       "var gd = document.getElementById('9afb281d-e559-4281-80d4-77e535239267');\n",
       "var x = new MutationObserver(function (mutations, observer) {{\n",
       "        var display = window.getComputedStyle(gd).display;\n",
       "        if (!display || display === 'none') {{\n",
       "            console.log([gd, 'removed!']);\n",
       "            Plotly.purge(gd);\n",
       "            observer.disconnect();\n",
       "        }}\n",
       "}});\n",
       "\n",
       "// Listen for the removal of the full notebook cells\n",
       "var notebookContainer = gd.closest('#notebook-container');\n",
       "if (notebookContainer) {{\n",
       "    x.observe(notebookContainer, {childList: true});\n",
       "}}\n",
       "\n",
       "// Listen for the clearing of the current output cell\n",
       "var outputEl = gd.closest('.output');\n",
       "if (outputEl) {{\n",
       "    x.observe(outputEl, {childList: true});\n",
       "}}\n",
       "\n",
       "                        })                };                });            </script>        </div>"
      ]
     },
     "metadata": {},
     "output_type": "display_data"
    }
   ],
   "source": [
    "fig = px.scatter(df, \n",
    "                 x=\"emb1\", \n",
    "                 y=\"emb2\", \n",
    "                 title=\"Embeddings\",\n",
    "                 hover_data=['name'],\n",
    "                 color = 'index')\n",
    "fig.show()"
   ]
  }
 ],
 "metadata": {
  "kernelspec": {
   "display_name": ".venv",
   "language": "python",
   "name": "python3"
  },
  "language_info": {
   "codemirror_mode": {
    "name": "ipython",
    "version": 3
   },
   "file_extension": ".py",
   "mimetype": "text/x-python",
   "name": "python",
   "nbconvert_exporter": "python",
   "pygments_lexer": "ipython3",
   "version": "3.11.2"
  }
 },
 "nbformat": 4,
 "nbformat_minor": 2
}
